{ "nbformat": 4,
  "nbformat_minor": 0,
  "metadata": {
    "accelerator": "GPU",
    "colab": {
      "name": "tfma_basic.ipynb",
      "provenance": [],
      "private_outputs": true,
      "collapsed_sections": [
        "tghWegsjhpkt"
      ],
      "toc_visible": true
    },
    "kernelspec": {
      "display_name": "Python 3",
      "name": "python3"
    }
  },
  "cells": [
    {
      "cell_type": "markdown",
      "metadata": {
        "colab_type": "text",
        "id": "tghWegsjhpkt"
      },
      "source": [
        "##### Copyright &copy; 2020 The TensorFlow Authors."
      ]
    },
    {
      "cell_type": "code",
      "metadata": {
        "colab_type": "code",
        "id": "rSGJWC5biBiG",
        "colab": {}
      },
      "source": [
        "#@title Licensed under the Apache License, Version 2.0 (the \"License\");\n",
        "# you may not use this file except in compliance with the License.\n",
        "# You may obtain a copy of the License at\n",
        "#\n",
        "# https://www.apache.org/licenses/LICENSE-2.0\n",
        "#\n",
        "# Unless required by applicable law or agreed to in writing, software\n",
        "# distributed under the License is distributed on an \"AS IS\" BASIS,\n",
        "# WITHOUT WARRANTIES OR CONDITIONS OF ANY KIND, either express or implied.\n",
        "# See the License for the specific language governing permissions and\n",
        "# limitations under the License."
      ],
      "execution_count": 0,
      "outputs": []
    },
    {
      "cell_type": "markdown",
      "metadata": {
        "colab_type": "text",
        "id": "YuSYVbwEYNHw"
      },
      "source": [
        "# TensorFlow Model Analysis\n",
        "***An Example of a Key Component of TensorFlow Extended (TFX)***"
      ]
    },
    {
      "cell_type": "markdown",
      "metadata": {
        "colab_type": "text",
        "id": "rLsMb4vqY244"
      },
      "source": [
        "Note: You can run this example right now in a Jupyter-style notebook, no setup required!  Just click \"Run in Google Colab\"\n",
        "\n",
        "<div class=\"devsite-table-wrapper\"><table class=\"tfo-notebook-buttons\" align=\"left\">\n",
        "<td><a target=\"_blank\" href=\"https://www.tensorflow.org/tfx/tutorials/model_analysis/tfma_basic\">\n",
        "<img src=\"https://www.tensorflow.org/images/tf_logo_32px.png\" />View on TensorFlow.org</a></td>\n",
        "<td><a target=\"_blank\" href=\"https://colab.sandbox.google.com/github/tensorflow/tfx/blob/master/docs/tutorials/model_analysis/tfma_basic.ipynb\">\n",
        "<img src=\"https://www.tensorflow.org/images/colab_logo_32px.png\">Run in Google Colab</a></td>\n",
        "<td><a target=\"_blank\" href=\"https://github.com/tensorflow/tfx/blob/master/docs/tutorials/model_analysis/tfma_basic.ipynb\">\n",
        "<img width=32px src=\"https://www.tensorflow.org/images/GitHub-Mark-32px.png\">View source on GitHub</a></td>\n",
        "</table></div>"
      ]
    },
    {
      "cell_type": "markdown",
      "metadata": {
        "colab_type": "text",
        "id": "mPt5BHTwy_0F"
      },
      "source": [
        "\n",
        "\n",
        "This example colab notebook illustrates how TensorFlow Model Analysis (TFMA) can be used to investigate and visualize the characteristics of a dataset and the performance of a model.  We'll use a model that we trained previously, and now you get to play with the results!\n",
        "\n",
        "The model we trained was for the [Chicago Taxi Example](https://github.com/tensorflow/model-analysis/tree/master/examples/chicago_taxi), which uses the [Taxi Trips dataset](https://data.cityofchicago.org/Transportation/Taxi-Trips/wrvz-psew) released by the City of Chicago.\n",
        "\n",
        "Note: This site provides applications using data that has been modified for use from its original source, www.cityofchicago.org, the official website of the City of Chicago. The City of Chicago makes no claims as to the content, accuracy, timeliness, or completeness of any of the data provided at this site. The data provided at this site is subject to change at any time. It is understood that the data provided at this site is being used at one’s own risk.\n",
        "\n",
        "[Read more](https://cloud.google.com/bigquery/public-data/chicago-taxi) about the dataset in [Google BigQuery](https://cloud.google.com/bigquery/). Explore the full dataset in the [BigQuery UI](https://bigquery.cloud.google.com/dataset/bigquery-public-data:chicago_taxi_trips).\n",
        "\n",
        "Key Point: As a modeler and developer, think about how this data is used and the potential benefits and harm a model's predictions can cause. A model like this could reinforce societal biases and disparities. Is a feature relevant to the problem you want to solve or will it introduce bias? For more information, read about <a target='_blank' href='https://developers.google.com/machine-learning/fairness-overview/'>ML fairness</a>.\n",
        "\n",
        "Key Point: In order to understand `TFMA` and how it works with Apache Beam, you'll need to know a little bit about Apache Beam itself.  The <a target='_blank' href='https://beam.apache.org/documentation/programming-guide/'>Beam Programming Guide</a> is a great place to start."
      ]
    },
    {
      "cell_type": "markdown",
      "metadata": {
        "colab_type": "text",
        "id": "Fnm6Mj3vTGLm"
      },
      "source": [
        "The columns in the dataset are:\n",
        "<table>\n",
        "<tr><td>pickup_community_area</td><td>fare</td><td>trip_start_month</td></tr>\n",
        "\n",
        "<tr><td>trip_start_hour</td><td>trip_start_day</td><td>trip_start_timestamp</td></tr>\n",
        "<tr><td>pickup_latitude</td><td>pickup_longitude</td><td>dropoff_latitude</td></tr>\n",
        "<tr><td>dropoff_longitude</td><td>trip_miles</td><td>pickup_census_tract</td></tr>\n",
        "<tr><td>dropoff_census_tract</td><td>payment_type</td><td>company</td></tr>\n",
        "<tr><td>trip_seconds</td><td>dropoff_community_area</td><td>tips</td></tr>\n",
        "</table>"
      ]
    },
    {
      "cell_type": "markdown",
      "metadata": {
        "colab_type": "text",
        "id": "q7-ouHFnWAsu"
      },
      "source": [
        "## Install Jupyter Extensions\n",
        "Note: If running in a local Jupyter notebook, then these Jupyter extensions must be installed in the environment before running Jupyter.\n",
        "\n",
        "```bash\n",
        "jupyter nbextension enable --py widgetsnbextension\n",
        "jupyter nbextension install --py --symlink tensorflow_model_analysis\n",
        "jupyter nbextension enable --py tensorflow_model_analysis\n",
        "```"
      ]
    },
    {
      "cell_type": "markdown",
      "metadata": {
        "colab_type": "text",
        "id": "LZj-impiAD_l"
      },
      "source": [
        "## Install TensorFlow Model Analysis (TFMA)\n",
        "\n",
        "This will pull in all the dependencies, and will take a minute.  Please ignore the warnings."
      ]
    },
    {
      "cell_type": "code",
      "metadata": {
        "colab_type": "code",
        "id": "0YTVfGPTe69L",
        "colab": {}
      },
      "source": [
        "import sys\n",
        "\n",
        "# Confirm that we're using Python 3\n",
        "assert sys.version_info.major is 3, 'Oops, not running Python 3. Use Runtime > Change runtime type'"
      ],
      "execution_count": 0,
      "outputs": []
    },
    {
      "cell_type": "code",
      "metadata": {
        "colab_type": "code",
        "id": "SA2E343NAMRF",
        "colab": {}
      },
      "source": [
        "print('Installing TensorFlow')\n",
        "!pip install tensorflow\n",
        "try:\n",
        "  # %tensorflow_version only exists in Colab.\n",
        "  %tensorflow_version 2.x\n",
        "except Exception:\n",
        "  pass\n",
        "import tensorflow as tf\n",
        "print('TF version: {}'.format(tf.__version__))\n",
        "\n",
        "print('Installing Apache Beam')\n",
        "!pip install -Uq apache_beam\n",
        "import apache_beam as beam\n",
        "print('Beam version: {}'.format(beam.__version__))\n",
        "\n",
        "# Install TFMA\n",
        "# This will pull in all the dependencies, and will take a minute\n",
        "# Please ignore the warnings\n",
        "!pip install -q tensorflow-model-analysis\n",
        "\n",
        "import tensorflow as tf\n",
        "import tensorflow_model_analysis as tfma\n",
        "print('TFMA version: {}'.format(tfma.__version__))"
      ],
      "execution_count": 0,
      "outputs": []
    },
    {
      "cell_type": "markdown",
      "metadata": {
        "colab_type": "text",
        "id": "RptgLn2RYuK3"
      },
      "source": [
        "## Load The Files\n",
        "We'll download a tar file that has everything we need.  That includes:\n",
        "\n",
        "* Training and evaluation datasets\n",
        "* Data schema\n",
        "* Training results as EvalSavedModels\n",
        "\n",
        "Note: We are downloading with HTTPS from a Google Cloud server."
      ]
    },
    {
      "cell_type": "code",
      "metadata": {
        "colab_type": "code",
        "id": "K4QXVIM7iglN",
        "colab": {}
      },
      "source": [
        "# Download the tar file from GCP and extract it\n",
        "import io, os, tempfile\n",
        "BASE_DIR = tempfile.mkdtemp()\n",
        "TFMA_DIR = os.path.join(BASE_DIR, 'eval_saved_models-0.15.0')\n",
        "DATA_DIR = os.path.join(TFMA_DIR, 'data')\n",
        "OUTPUT_DIR = os.path.join(TFMA_DIR, 'output')\n",
        "SCHEMA = os.path.join(TFMA_DIR, 'schema.pbtxt')\n",
        "\n",
        "!wget https://storage.googleapis.com/artifacts.tfx-oss-public.appspot.com/datasets/eval_saved_models-0.15.0.tar\n",
        "!tar xf eval_saved_models-0.15.0.tar\n",
        "!mv eval_saved_models-0.15.0 {BASE_DIR}\n",
        "!rm eval_saved_models-0.15.0.tar\n",
        "\n",
        "print(\"Here's what we downloaded:\")\n",
        "!ls -R {TFMA_DIR}"
      ],
      "execution_count": 0,
      "outputs": []
    },
    {
      "cell_type": "markdown",
      "metadata": {
        "colab_type": "text",
        "id": "_xa7ZDV1MycO"
      },
      "source": [
        "## Parse the Schema\n",
        "\n",
        "Among the things we downloaded was a schema for our data that was created by [TensorFlow Data Validation](https://www.tensorflow.org/tfx/data_validation/).  Let's parse that now so that we can use it with TFMA."
      ]
    },
    {
      "cell_type": "code",
      "metadata": {
        "colab_type": "code",
        "id": "uW5eB4TPcwFw",
        "colab": {}
      },
      "source": [
        "import tensorflow as tf\n",
        "from google.protobuf import text_format\n",
        "from tensorflow.python.lib.io import file_io\n",
        "from tensorflow_metadata.proto.v0 import schema_pb2\n",
        "from tensorflow.core.example import example_pb2\n",
        "\n",
        "schema = schema_pb2.Schema()\n",
        "contents = file_io.read_file_to_string(SCHEMA)\n",
        "schema = text_format.Parse(contents, schema)"
      ],
      "execution_count": 0,
      "outputs": []
    },
    {
      "cell_type": "markdown",
      "metadata": {
        "colab_type": "text",
        "id": "UP3yuJxfNXRL"
      },
      "source": [
        "## Use the Schema to Create TFRecords\n",
        "\n",
        "We need to give TFMA access to our dataset, so let's create a TFRecords file.  We can use our schema to create it, since it gives us the correct type for each feature."
      ]
    },
    {
      "cell_type": "code",
      "metadata": {
        "colab_type": "code",
        "id": "8-wud3fPczl6",
        "colab": {}
      },
      "source": [
        "import csv\n",
        "\n",
        "datafile = os.path.join(DATA_DIR, 'eval', 'data.csv')\n",
        "reader = csv.DictReader(open(datafile, 'r'))\n",
        "examples = []\n",
        "for line in reader:\n",
        "  example = example_pb2.Example()\n",
        "  for feature in schema.feature:\n",
        "    key = feature.name\n",
        "    if len(line[key]) > 0:\n",
        "      if feature.type == schema_pb2.FLOAT:\n",
        "        example.features.feature[key].float_list.value[:] = [float(line[key])]\n",
        "      elif feature.type == schema_pb2.INT:\n",
        "        example.features.feature[key].int64_list.value[:] = [int(line[key])]\n",
        "      elif feature.type == schema_pb2.BYTES:\n",
        "        example.features.feature[key].bytes_list.value[:] = [line[key].encode('utf8')]\n",
        "    else:\n",
        "      if feature.type == schema_pb2.FLOAT:\n",
        "        example.features.feature[key].float_list.value[:] = []\n",
        "      elif feature.type == schema_pb2.INT:\n",
        "        example.features.feature[key].int64_list.value[:] = []\n",
        "      elif feature.type == schema_pb2.BYTES:\n",
        "        example.features.feature[key].bytes_list.value[:] = []\n",
        "  examples.append(example)\n",
        "\n",
        "TFRecord_file = os.path.join(BASE_DIR, 'train_data.rio')\n",
        "with tf.io.TFRecordWriter(TFRecord_file) as writer:\n",
        "  for example in examples:\n",
        "    writer.write(example.SerializeToString())\n",
        "  writer.flush()\n",
        "  writer.close()\n",
        "\n",
        "!ls {TFRecord_file}"
      ],
      "execution_count": 0,
      "outputs": []
    },
    {
      "cell_type": "markdown",
      "metadata": {
        "id": "fp8Ub7GTXH3j",
        "colab_type": "text"
      },
      "source": [
        "## Setup and Run TFMA\n",
        "\n",
        "TFMA supports a number of different model types including TF keras models, models based on generic TF2 signature APIs, as well TF estimator based models. The [get_started](https://www.tensorflow.org/tfx/model_analysis/get_started#model-types-supported) guide has the full list of model types supported and any restrictions. For this example we are going to use an estimator based model that was saved as an [`EvalSavedModel`](https://www.tensorflow.org/tfx/model_analysis/eval_saved_model). \n",
        "\n",
        "For our [setup](https://www.tensorflow.org/tfx/model_analysis/setup) we will use the built-in metrics that were saved with the model (see the [metrics](https://www.tensorflow.org/tfx/model_analysis/metrics) guide for how to add additional metrics and plots not saved with the model). This setup also includes a number of slicing specs which are discussed in more detail in the following sections.\n",
        "\n",
        "After creating a `tfma.EvalConfig` and `tfma.EvalSharedModel` we can then run TFMA using [`tfma.run_model_analysis`](https://www.tensorflow.org/tfx/model_analysis/api_docs/python/tfma/run_model_analysis). This will create an `EvalResult` which we can use later for rendering our metrics and plots."
      ]
    },
    {
      "cell_type": "code",
      "metadata": {
        "id": "PLJxcjpjfwkx",
        "colab_type": "code",
        "colab": {}
      },
      "source": [
        "import tensorflow_model_analysis as tfma\n",
        "\n",
        "# Setup tfma.EvalConfig settings\n",
        "eval_config = text_format.Parse(\"\"\"\n",
        "  ## Model information\n",
        "  model_specs {\n",
        "    # This assumes an eval saved model. Remove the `signature_name` and add a\n",
        "    # `label_key` if using a keras or serving model.\n",
        "    signature_name: \"eval\"\n",
        "  }\n",
        "\n",
        "  ## Post export metric information\n",
        "  metrics_specs {\n",
        "    # ... add additional metrics and plots ...\n",
        "    metrics { class_name: \"ConfusionMatrixPlot\" }\n",
        "  }\n",
        "\n",
        "  ## Slicing information\n",
        "  slicing_specs {}  # overall slice\n",
        "  slicing_specs {\n",
        "    feature_keys: [\"trip_start_hour\"]\n",
        "  }\n",
        "  slicing_specs {\n",
        "    feature_keys: [\"trip_start_day\"]\n",
        "  }\n",
        "  slicing_specs {\n",
        "    feature_keys: [\"trip_start_month\"]\n",
        "  }\n",
        "  slicing_specs {\n",
        "    feature_keys: [\"trip_start_hour\", \"trip_start_day\"]\n",
        "  }\n",
        "\"\"\", tfma.EvalConfig())\n",
        "\n",
        "# Create a tfma.EvalSharedModel that points at our eval saved model.\n",
        "eval_model_base_dir_0 = os.path.join(TFMA_DIR, 'run_0', 'eval_model_dir')\n",
        "eval_model_dir_0 = os.path.join(eval_model_base_dir_0, next(os.walk(eval_model_base_dir_0))[1][0])\n",
        "eval_shared_model = tfma.default_eval_shared_model(eval_saved_model_path=eval_model_dir_0)\n",
        "\n",
        "# Run TFMA\n",
        "eval_result = tfma.run_model_analysis(eval_shared_model=eval_shared_model,\n",
        "                                      eval_config=eval_config,\n",
        "                                      data_location=TFRecord_file,\n",
        "                                      file_format='tfrecords',\n",
        "                                      output_path='sample_data')"
      ],
      "execution_count": 0,
      "outputs": []
    },
    {
      "cell_type": "markdown",
      "metadata": {
        "colab_type": "text",
        "id": "cSl9qyTCbBKR"
      },
      "source": [
        "### Rendering Metrics\n",
        "\n",
        "Now that we've run the evaluation, let's take a look at our visualizations using TFMA. To view metrics you use [`tfma.view.render_slicing_metrics`](https://www.tensorflow.org/tfx/model_analysis/api_docs/python/tfma/view/render_slicing_metrics)\n",
        "\n",
        "By default the views will display the `Overall` slice. To view a particular slice you can either use the name of the column (by setting `slicing_column`) or provide a [`tfma.slicer.SingleSliceSpec`](https://www.tensorflow.org/tfx/model_analysis/api_docs/python/tfma/SingleSliceSpec). \n",
        "\n",
        "The metrics visualization is interactive:\n",
        "\n",
        "* Click and drag to pan\n",
        "* Scroll to zoom\n",
        "* Right click to reset the view\n",
        "\n",
        "Simply hover over the desired data point to see more details.  Select from four different types of views using the selections at the bottom.\n",
        "\n",
        "For example, we'll be setting `slicing_column` to look at the `trip_start_hour` feature from our previous `slicing_specs`."
      ]
    },
    {
      "cell_type": "code",
      "metadata": {
        "colab_type": "code",
        "id": "hJ5_UMnWYmaE",
        "colab": {}
      },
      "source": [
        "tfma.view.render_slicing_metrics(eval_result, slicing_column='trip_start_hour')"
      ],
      "execution_count": 0,
      "outputs": []
    },
    {
      "cell_type": "markdown",
      "metadata": {
        "colab_type": "text",
        "id": "LJuxvGCpn4yF"
      },
      "source": [
        "### Slices Overview\n",
        "\n",
        "The default visualization is the **Slices Overview** when the number of slices is small. It shows the values of metrics for each slice. Since we've selected `trip_start_hour` above, it's showing us metrics like accuracy and AUC for each hour, which allows us to look for issues that are specific to some hours and not others.\n",
        "\n",
        "In the visualization above:\n",
        "\n",
        "* Try sorting the feature column, which is our `trip_start_hours` feature, by clicking on the column header\n",
        "* Try sorting by precision, and **notice that the precision for some of the hours with examples is 0, which may indicate a problem**\n",
        "\n",
        "The chart also allows us to select and display different metrics in our slices.\n",
        "\n",
        "* Try selecting different metrics from the \"Show\" menu\n",
        "* Try selecting recall in the \"Show\" menu, and **notice that the recall for some of the hours with examples is 0, which may indicate a problem**\n",
        "\n",
        "It is also possible to set a threshold to filter out slices with smaller numbers of examples, or \"weights\".  You can type a minimum number of examples, or use the slider."
      ]
    },
    {
      "cell_type": "markdown",
      "metadata": {
        "colab_type": "text",
        "id": "cQT-1Ckcnd_7"
      },
      "source": [
        "### Metrics Histogram\n",
        "\n",
        "This view also supports a **Metrics Histogram** as an alternative visualization, which is also the default view when the number of slices is large. The results will be divided into buckets and the number of slices / total weights / both can be visualized. Columns can be sorted by clicking on the column header.  Slices with small weights can be filtered out by setting the threshold. Further filtering can be applied by dragging the grey band. To reset the range, double click the band. Filtering can also be used to remove outliers in the visualization and the metrics tables. Click the gear icon to switch to a logarithmic scale instead of a linear scale.\n",
        "\n",
        "* Try selecting \"Metrics Histogram\" in the Visualization menu\n"
      ]
    },
    {
      "cell_type": "markdown",
      "metadata": {
        "colab_type": "text",
        "id": "hSnqI6Esb1XM"
      },
      "source": [
        "### More Slices\n",
        "\n",
        "Our initial `tfma.EvalConfig` created a whole list of `slicing_specs`, which we can visualize by updating slice information passed to `tfma.view.render_slicing_metrics`. Here we'll select the `trip_start_day` slice (days of the week).  **Try changing the `trip_start_day` to `trip_start_month` and running again to examine different slices.**"
      ]
    },
    {
      "cell_type": "code",
      "metadata": {
        "colab_type": "code",
        "id": "355wqvY3yBod",
        "colab": {}
      },
      "source": [
        "tfma.view.render_slicing_metrics(eval_result, slicing_column='trip_start_day')"
      ],
      "execution_count": 0,
      "outputs": []
    },
    {
      "cell_type": "markdown",
      "metadata": {
        "colab_type": "text",
        "id": "PsXM0NYGeajg"
      },
      "source": [
        "TFMA also supports creating feature crosses to analyze combinations of features. Our original settings created a cross `trip_start_hour` and `trip_start_day`:"
      ]
    },
    {
      "cell_type": "code",
      "metadata": {
        "colab_type": "code",
        "id": "k7vbFS1Me1SH",
        "colab": {}
      },
      "source": [
        "tfma.view.render_slicing_metrics(\n",
        "    eval_result, \n",
        "    slicing_spec=tfma.slicer.SingleSliceSpec(\n",
        "        columns=['trip_start_hour', 'trip_start_day']))"
      ],
      "execution_count": 0,
      "outputs": []
    },
    {
      "cell_type": "markdown",
      "metadata": {
        "colab_type": "text",
        "id": "GmeODqrUfJw2"
      },
      "source": [
        "Crossing the two columns creates a lot of combinations!  Let's narrow down our cross to only look at **trips that start at noon**.  Then let's select `accuracy` from the visualization:"
      ]
    },
    {
      "cell_type": "code",
      "metadata": {
        "colab_type": "code",
        "id": "kdvBNfcHfRWg",
        "colab": {}
      },
      "source": [
        "tfma.view.render_slicing_metrics(\n",
        "    eval_result, \n",
        "    slicing_spec=tfma.slicer.SingleSliceSpec(\n",
        "        columns=['trip_start_day'], features=[('trip_start_hour', 12)]))"
      ],
      "execution_count": 0,
      "outputs": []
    },
    {
      "cell_type": "markdown",
      "metadata": {
        "id": "f8acksU33KMm",
        "colab_type": "text"
      },
      "source": [
        "### Rendering Plots\n",
        "\n",
        "Any plots that were added to the `tfma.EvalConfig` as post export `metric_specs` can be displayed using [`tfma.view.render_plot`](https://www.tensorflow.org/tfx/model_analysis/api_docs/python/tfma/view/render_plot).  \n",
        "\n",
        "As with metrics, plots can be viewed by slice. Unlike metrics, only a single plot is displayed so the `tfma.slicer.SingleSliceSpec` must be used and it must specify a both a slice feature name and value. If no slice is provided then the plot for the `Overall` slice is used.\n",
        "\n",
        "In the example below we are displaying the `ConfusionMatrixPlot` that was added for the `trip_start_hour:1` slice."
      ]
    },
    {
      "cell_type": "code",
      "metadata": {
        "id": "X4TCKjGw3S-a",
        "colab_type": "code",
        "colab": {}
      },
      "source": [
        "tfma.view.render_plot(\n",
        "    eval_result,\n",
        "    tfma.slicer.SingleSliceSpec(features=[('trip_start_hour', 1)]))"
      ],
      "execution_count": 0,
      "outputs": []
    },
    {
      "cell_type": "markdown",
      "metadata": {
        "colab_type": "text",
        "id": "meRvFkKcPbux"
      },
      "source": [
        "## Tracking Model Performance Over Time\n",
        "\n",
        "Your training dataset will be used for training your model, and will hopefully be representative of your test dataset and the data that will be sent to your model in production.  However, while the data in inference requests may remain the same as your training data, in many cases it will start to change enough so that the performance of your model will change.\n",
        "\n",
        "That means that you need to monitor and measure your model's performance on an ongoing basis, so that you can be aware of and react to changes.  Let's take a look at how TFMA can help."
      ]
    },
    {
      "cell_type": "markdown",
      "metadata": {
        "colab_type": "text",
        "id": "Vm2y2DqNF4HL"
      },
      "source": [
        "### Measure Performance For New Data\n",
        "We downloaded the results of three different training runs above, so let's load them now and use TFMA to see how they compare using [`render_time_series`](https://www.tensorflow.org/tfx/model_analysis/api_docs/python/tfma/view/render_time_series).  We can specify particular slices to look at.  Let's compare our training runs for trips that started at noon.\n",
        "\n",
        "* Select a metric from the dropdown to add the time series graph for that metric\n",
        "* Close unwanted graphs\n",
        "* Hover over data points (the ends of line segments in the graph) to get more details"
      ]
    },
    {
      "cell_type": "code",
      "metadata": {
        "colab_type": "code",
        "id": "zJYUOjmFfuPy",
        "colab": {}
      },
      "source": [
        "# Note this re-uses the tfma.EvalConfig from the previous setup.\n",
        "\n",
        "# Run eval on each eval saved model\n",
        "output_paths = []\n",
        "for i in range(3):\n",
        "  # Create a tfma.EvalSharedModel that points at our eval saved model.\n",
        "  eval_model_base_dir = os.path.join(TFMA_DIR, 'run_%d' % i, 'eval_model_dir')\n",
        "  eval_model_dir = os.path.join(eval_model_base_dir, next(os.walk(eval_model_base_dir))[1][0])\n",
        "  eval_shared_model = tfma.default_eval_shared_model(eval_saved_model_path=eval_model_dir)\n",
        "\n",
        "  output_path = os.path.join(TFMA_DIR, 'output', 'run_%d' % i)\n",
        "  output_paths.append(output_path)\n",
        "\n",
        "  # Run TFMA\n",
        "  tfma.run_model_analysis(eval_shared_model=eval_shared_model,\n",
        "                          eval_config=eval_config,\n",
        "                          data_location=TFRecord_file,\n",
        "                          file_format='tfrecords',\n",
        "                          output_path=output_path)"
      ],
      "execution_count": 0,
      "outputs": []
    },
    {
      "cell_type": "markdown",
      "metadata": {
        "colab_type": "text",
        "id": "RsO-gqCRK0ar"
      },
      "source": [
        "### How does it look today?\n",
        "First, we'll imagine that we've trained and deployed our model yesterday, and now we want to see how it's doing on the new data coming in today.  The visualization will start by displaying accuracy.  Add AUC and average loss by using the \"Add metric series\" menu.\n",
        "\n",
        "Note: In the metric series charts the X axis is the model ID number of the model run that you're examining.  The numbers themselves are not meaningful."
      ]
    },
    {
      "cell_type": "code",
      "metadata": {
        "colab_type": "code",
        "id": "KjEws8T0cDm9",
        "colab": {}
      },
      "source": [
        "eval_results_from_disk = tfma.load_eval_results(\n",
        "    output_paths[:2], tfma.constants.MODEL_CENTRIC_MODE)\n",
        "\n",
        "tfma.view.render_time_series(eval_results_from_disk)"
      ],
      "execution_count": 0,
      "outputs": []
    },
    {
      "cell_type": "markdown",
      "metadata": {
        "colab_type": "text",
        "id": "EQ7kZxESN9Bx"
      },
      "source": [
        "Now we'll imagine that another day has passed and we want to see how it's doing on the new data coming in today, compared to the previous two days. Again add AUC and average loss by using the \"Add metric series\" menu:"
      ]
    },
    {
      "cell_type": "code",
      "metadata": {
        "colab_type": "code",
        "id": "VjQmlXMmLwHf",
        "colab": {}
      },
      "source": [
        "eval_results_from_disk = tfma.load_eval_results(\n",
        "    output_paths, tfma.constants.MODEL_CENTRIC_MODE)\n",
        "\n",
        "tfma.view.render_time_series(eval_results_from_disk)"
      ],
      "execution_count": 0,
      "outputs": []
    }
  ]
}